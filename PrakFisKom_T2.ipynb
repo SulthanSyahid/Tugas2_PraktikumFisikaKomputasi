{
  "nbformat": 4,
  "nbformat_minor": 0,
  "metadata": {
    "colab": {
      "provenance": [],
      "authorship_tag": "ABX9TyMrL8Z4ZTBRUH/mQCpJFvln",
      "include_colab_link": true
    },
    "kernelspec": {
      "name": "python3",
      "display_name": "Python 3"
    },
    "language_info": {
      "name": "python"
    }
  },
  "cells": [
    {
      "cell_type": "markdown",
      "metadata": {
        "id": "view-in-github",
        "colab_type": "text"
      },
      "source": [
        "<a href=\"https://colab.research.google.com/github/SulthanSyahid/Tugas2_PraktikumFisikaKomputasi/blob/main/PrakFisKom_T2.ipynb\" target=\"_parent\"><img src=\"https://colab.research.google.com/assets/colab-badge.svg\" alt=\"Open In Colab\"/></a>"
      ]
    },
    {
      "cell_type": "markdown",
      "source": [
        "Buah kelapa terlepas dari tangkainya dan tiba di tanah setelah tiga detik. Berapa kelajuan buah kelapa ketika menyentuh tanah ? g  = 10 m/s2"
      ],
      "metadata": {
        "id": "VPhGf9b6M8HV"
      }
    },
    {
      "cell_type": "markdown",
      "source": [
        "$ v_t = g \\times t $ \\\\\n",
        "$ v_t = 10\\times 3 $ \\\\\n",
        "$ v_t = 30 m/s $ \\\\"
      ],
      "metadata": {
        "id": "wwccD-KTNFKi"
      }
    },
    {
      "cell_type": "code",
      "source": [
        "g = 10\n",
        "t = 3\n",
        "\n",
        "vt = g*t\n",
        "print (vt, \"m/s\")"
      ],
      "metadata": {
        "colab": {
          "base_uri": "https://localhost:8080/"
        },
        "id": "UMOPlL15OYQx",
        "outputId": "ddbb836a-ff9b-4665-ebb6-1d01dca47d1b"
      },
      "execution_count": 1,
      "outputs": [
        {
          "output_type": "stream",
          "name": "stdout",
          "text": [
            "30 m/s\n"
          ]
        }
      ]
    }
  ]
}